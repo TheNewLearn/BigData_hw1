{
  "nbformat": 4,
  "nbformat_minor": 0,
  "metadata": {
    "colab": {
      "name": "bd_hw1.ipynb",
      "provenance": [],
      "collapsed_sections": [],
      "authorship_tag": "ABX9TyMHjSDbwgjejpzcsZL4VaES",
      "include_colab_link": true
    },
    "kernelspec": {
      "name": "python3",
      "display_name": "Python 3"
    },
    "language_info": {
      "name": "python"
    }
  },
  "cells": [
    {
      "cell_type": "markdown",
      "metadata": {
        "id": "view-in-github",
        "colab_type": "text"
      },
      "source": [
        "<a href=\"https://colab.research.google.com/github/TheNewLearn/BigData_hw1/blob/main/bd_hw1.ipynb\" target=\"_parent\"><img src=\"https://colab.research.google.com/assets/colab-badge.svg\" alt=\"Open In Colab\"/></a>"
      ]
    },
    {
      "cell_type": "code",
      "metadata": {
        "colab": {
          "base_uri": "https://localhost:8080/"
        },
        "id": "WFTeMI_mgySa",
        "outputId": "a05ed621-5f2e-4a81-eedd-543f81713c5c"
      },
      "source": [
        "!apt-get -y install openjdk-8-jre-headless\n",
        "!pip install pyspark\n",
        "from pyspark.sql import SparkSession\n",
        "from pyspark import SparkContext\n",
        "from google.colab import drive\n",
        "from pyspark import SparkContext\n",
        "from pyspark import SparkConf\n",
        "from pyspark.sql import SQLContext\n",
        "spark = SparkSession.builder.master(\"local\").getOrCreate()\n",
        "sc = SparkContext.getOrCreate()"
      ],
      "execution_count": 1,
      "outputs": [
        {
          "output_type": "stream",
          "name": "stdout",
          "text": [
            "Reading package lists... Done\n",
            "Building dependency tree       \n",
            "Reading state information... Done\n",
            "openjdk-8-jre-headless is already the newest version (8u292-b10-0ubuntu1~18.04).\n",
            "0 upgraded, 0 newly installed, 0 to remove and 37 not upgraded.\n",
            "Requirement already satisfied: pyspark in /usr/local/lib/python3.7/dist-packages (3.2.0)\n",
            "Requirement already satisfied: py4j==0.10.9.2 in /usr/local/lib/python3.7/dist-packages (from pyspark) (0.10.9.2)\n"
          ]
        }
      ]
    },
    {
      "cell_type": "code",
      "metadata": {
        "colab": {
          "base_uri": "https://localhost:8080/"
        },
        "id": "wB8nl78fg3Wq",
        "outputId": "6261fc93-a4ae-4e12-ec8d-f1155405a0a3"
      },
      "source": [
        "from pyspark.sql.functions import max\n",
        "drive.mount(\"/content/drive\")\n",
        "path = \"/content/drive/My Drive/household_power_consumption.txt\"\n",
        "dataset = sc.textFile(path).map(lambda line: line.split(\";\"))\n",
        "header = dataset.first()\n",
        "dataset = dataset.filter(lambda row:row != header)\n",
        "gap = dataset.map(lambda x: x[2]).filter(lambda x: x!=\"?\")\n",
        "maxgap = gap.reduce(lambda x,y: x if (float(x)>float(y)) else y)\n",
        "mingap = gap.reduce(lambda x,y: x if (float(x)<float(y)) else y)\n",
        "countgap = gap.count()\n",
        "\n",
        "\n",
        "grp = dataset.map(lambda x: x[3]).filter(lambda x: x!=\"?\")\n",
        "maxgrp = grp.reduce(lambda x,y: x if (float(x)>float(y)) else y)\n",
        "mingrp = grp.reduce(lambda x,y: x if (float(x)<float(y)) else y)\n",
        "countgrp = grp.count()\n",
        "\n",
        "\n",
        "vol = dataset.map(lambda x: x[4]).filter(lambda x: x!=\"?\")\n",
        "maxvol = vol.reduce(lambda x,y: x if (float(x)>float(y)) else y)\n",
        "minvol = vol.reduce(lambda x,y: x if (float(x)<float(y)) else y)\n",
        "countvol = vol.count()\n",
        "\n",
        "\n",
        "gi = dataset.map(lambda x: x[5]).filter(lambda x: x!=\"?\")\n",
        "maxgi = gi.reduce(lambda x,y: x if (float(x)>float(y)) else y)\n",
        "mingi = gi.reduce(lambda x,y: x if (float(x)<float(y)) else y)\n",
        "countgi = gi.count()\n"
      ],
      "execution_count": 29,
      "outputs": [
        {
          "output_type": "stream",
          "name": "stdout",
          "text": [
            "Drive already mounted at /content/drive; to attempt to forcibly remount, call drive.mount(\"/content/drive\", force_remount=True).\n",
            "root\n",
            " |-- name: string (nullable = true)\n",
            " |-- count: long (nullable = true)\n",
            " |-- maximum: string (nullable = true)\n",
            " |-- minimum: string (nullable = true)\n",
            "\n",
            "+---------------------+-------+-------+-------+\n",
            "|name                 |count  |maximum|minimum|\n",
            "+---------------------+-------+-------+-------+\n",
            "|Global_active_power  |2049280|11.122 |0.076  |\n",
            "|Global_reactive_power|2049280|1.390  |0.000  |\n",
            "|Voltage              |2049280|254.150|223.200|\n",
            "|Global_intensity     |2049280|48.400 |0.200  |\n",
            "+---------------------+-------+-------+-------+\n",
            "\n"
          ]
        }
      ]
    },
    {
      "cell_type": "code",
      "metadata": {
        "colab": {
          "base_uri": "https://localhost:8080/"
        },
        "id": "S00M3DSVLpAp",
        "outputId": "bd503a8c-9cc5-4503-c8b8-f96b098a8617"
      },
      "source": [
        "data = [(\"Global_active_power\",countgap,maxgap,mingap),\n",
        "        (\"Global_reactive_power\",countgrp,maxgrp, mingrp),\n",
        "        (\"Voltage\",countvol,maxvol, minvol),\n",
        "        (\"Global_intensity\",countgi,maxgi, mingi)]\n",
        "\n",
        "columns = [\"name\",\"count\",\"maximum\",\"minimum\"]\n",
        "\n",
        "df = spark.createDataFrame(data=data,schema=columns)\n",
        "df.printSchema()\n",
        "df.show(truncate=False)"
      ],
      "execution_count": 50,
      "outputs": [
        {
          "output_type": "stream",
          "name": "stdout",
          "text": [
            "root\n",
            " |-- name: string (nullable = true)\n",
            " |-- count: long (nullable = true)\n",
            " |-- maximum: string (nullable = true)\n",
            " |-- minimum: string (nullable = true)\n",
            "\n",
            "+---------------------+-------+-------+-------+\n",
            "|name                 |count  |maximum|minimum|\n",
            "+---------------------+-------+-------+-------+\n",
            "|Global_active_power  |2049280|11.122 |0.076  |\n",
            "|Global_reactive_power|2049280|1.390  |0.000  |\n",
            "|Voltage              |2049280|254.150|223.200|\n",
            "|Global_intensity     |2049280|48.400 |0.200  |\n",
            "+---------------------+-------+-------+-------+\n",
            "\n"
          ]
        }
      ]
    },
    {
      "cell_type": "code",
      "metadata": {
        "id": "e1KMgSKHF4jQ"
      },
      "source": [
        "gapfloat = gap.map(lambda x:float(x))\n",
        "meangap = gapfloat.mean()\n",
        "stdgap = gapfloat.stdev()\n",
        "\n",
        "grpfloat = grp.map(lambda x:float(x))\n",
        "volfloat = vol.map(lambda x:float(x))\n",
        "gifloat = gi.map(lambda x:float(x))\n",
        "\n",
        "meangrp = grpfloat.mean()\n",
        "stdgrp = grpfloat.stdev()\n",
        "\n",
        "meanvol = volfloat.mean()\n",
        "stdvol = volfloat.stdev()\n",
        "\n",
        "meangi = gifloat.mean()\n",
        "stdgi = gifloat.stdev()"
      ],
      "execution_count": 159,
      "outputs": []
    },
    {
      "cell_type": "code",
      "metadata": {
        "colab": {
          "base_uri": "https://localhost:8080/"
        },
        "id": "EqBWmTo6Kgvn",
        "outputId": "17e72e46-72b1-4525-e600-8f860cf8baf5"
      },
      "source": [
        "print(stdgap,stdgap,stdvol,stdgi)\n",
        "data2 = [(\"Global_active_power\",meangap,str(stdgap)),\n",
        "        (\"Global_reactive_power\",meangrp,str(stdgrp)),\n",
        "        (\"Voltage\",meanvol,str(stdvol)),\n",
        "        (\"Global_intensity\",meangi,str(stdgi))]\n",
        "\n",
        "columns2 = [\"name\",\"mean\",\"standard deviatio\"]\n",
        "\n",
        "df2 = spark.createDataFrame(data=data2,schema=columns2)\n",
        "df2.printSchema()\n",
        "df2.show(truncate=False)"
      ],
      "execution_count": 49,
      "outputs": [
        {
          "output_type": "stream",
          "name": "stdout",
          "text": [
            "1.05729390312673 1.05729390312673 3.2399858884915984 4.444395175406103\n",
            "root\n",
            " |-- name: string (nullable = true)\n",
            " |-- mean: double (nullable = true)\n",
            " |-- standard deviatio: string (nullable = true)\n",
            "\n",
            "+---------------------+-------------------+-------------------+\n",
            "|name                 |mean               |standard deviatio  |\n",
            "+---------------------+-------------------+-------------------+\n",
            "|Global_active_power  |1.0916150365006068 |1.05729390312673   |\n",
            "|Global_reactive_power|0.12371447630387154|0.11272195204788779|\n",
            "|Voltage              |240.83985797450583 |3.2399858884915984 |\n",
            "|Global_intensity     |4.627759310587101  |4.444395175406103  |\n",
            "+---------------------+-------------------+-------------------+\n",
            "\n"
          ]
        }
      ]
    },
    {
      "cell_type": "code",
      "metadata": {
        "colab": {
          "base_uri": "https://localhost:8080/"
        },
        "id": "0tzXSQBEL2bh",
        "outputId": "22a46321-c23f-4ae1-b0f2-b7f51a75c5f4"
      },
      "source": [
        "from pyspark.sql.functions import col\n",
        "from functools import reduce\n",
        "from pyspark.sql import DataFrame\n",
        "gapdf = gapfloat.map(lambda x: (x, )).toDF([\"Global_active_power\"])\n",
        "gapdf2 = gapdf.withColumn(\"Min Max Normalization_Global_active_power\",(col(\"Global_active_power\")- float(mingap))/(float(maxgap)-float(mingap)))\n",
        "gapdf2.show()\n",
        "\n",
        "grpdf = grpfloat.map(lambda x: (x, )).toDF([\"Global_reactive_power\"])\n",
        "grpdf2 = grpdf.withColumn(\"Min Max Normalization_Global_reactive_power\",(col(\"Global_reactive_power\")- float(mingrp))/(float(maxgrp)-float(mingrp)))\n",
        "grpdf2.show()\n",
        "\n",
        "voldf = volfloat.map(lambda x: (x, )).toDF([\"Voltage\"])\n",
        "voldf2 = voldf.withColumn(\"Min Max Normalization_Voltage\",(col(\"Voltage\")- float(minvol))/(float(maxvol)-float(minvol)))\n",
        "voldf2.show()\n",
        "\n",
        "gidf = gifloat.map(lambda x: (x, )).toDF([\"Global_intensity\"])\n",
        "gidf2 = gidf.withColumn(\"Min Max Normalization_Global_intensity\",(col(\"Global_intensity\")- float(mingi))/(float(maxgi)-float(mingi)))\n",
        "\n",
        "\n",
        "gap_list = gapdf2.select(\"Min Max Normalization_Global_active_power\").rdd.flatMap(lambda x: x).collect()\n",
        "grp_list = grpdf2.select(\"Min Max Normalization_Global_reactive_power\").rdd.flatMap(lambda x: x).collect()\n",
        "vol_list = voldf2.select(\"Min Max Normalization_Voltage\").rdd.flatMap(lambda x: x).collect()\n",
        "gi_list = gidf2.select(\"Min Max Normalization_Global_intensity\").rdd.flatMap(lambda x: x).collect()\n",
        "\n",
        "\n",
        "\n",
        "\n",
        "\n",
        "\n",
        "\n",
        "\n",
        "\n",
        "\n",
        "\n",
        "\n",
        "\n"
      ],
      "execution_count": 158,
      "outputs": [
        {
          "output_type": "stream",
          "name": "stdout",
          "text": [
            "+-------------------+-----------------------------------------+\n",
            "|Global_active_power|Min Max Normalization_Global_active_power|\n",
            "+-------------------+-----------------------------------------+\n",
            "|              4.216|                       0.3747963063552418|\n",
            "|               5.36|                       0.4783632084012313|\n",
            "|              5.374|                       0.4796306355241717|\n",
            "|              5.388|                      0.48089806264711216|\n",
            "|              3.666|                       0.3250045265254391|\n",
            "|               3.52|                        0.311787072243346|\n",
            "|              3.702|                       0.3282636248415716|\n",
            "|                3.7|                      0.32808256382400874|\n",
            "|              3.668|                      0.32518558754300203|\n",
            "|              3.662|                      0.32464240449031323|\n",
            "|              4.448|                      0.39579938439254037|\n",
            "|              5.412|                      0.48307079485786714|\n",
            "|              5.224|                      0.46605105920695283|\n",
            "|              5.268|                        0.470034401593337|\n",
            "|              4.054|                      0.36013036393264536|\n",
            "|              3.384|                      0.29947492304906753|\n",
            "|               3.27|                      0.28915444504798116|\n",
            "|               3.43|                      0.30363932645301467|\n",
            "|              3.266|                      0.28879232301285535|\n",
            "|              3.728|                       0.3306174180698896|\n",
            "+-------------------+-----------------------------------------+\n",
            "only showing top 20 rows\n",
            "\n",
            "+---------------------+-------------------------------------------+\n",
            "|Global_reactive_power|Min Max Normalization_Global_reactive_power|\n",
            "+---------------------+-------------------------------------------+\n",
            "|                0.418|                        0.30071942446043165|\n",
            "|                0.436|                        0.31366906474820144|\n",
            "|                0.498|                        0.35827338129496406|\n",
            "|                0.502|                         0.3611510791366907|\n",
            "|                0.528|                         0.3798561151079137|\n",
            "|                0.522|                        0.37553956834532376|\n",
            "|                 0.52|                         0.3741007194244605|\n",
            "|                 0.52|                         0.3741007194244605|\n",
            "|                 0.51|                        0.36690647482014394|\n",
            "|                 0.51|                        0.36690647482014394|\n",
            "|                0.498|                        0.35827338129496406|\n",
            "|                 0.47|                         0.3381294964028777|\n",
            "|                0.478|                        0.34388489208633094|\n",
            "|                0.398|                         0.2863309352517986|\n",
            "|                0.422|                         0.3035971223021583|\n",
            "|                0.282|                         0.2028776978417266|\n",
            "|                0.152|                        0.10935251798561152|\n",
            "|                0.156|                        0.11223021582733814|\n",
            "|                  0.0|                                        0.0|\n",
            "|                  0.0|                                        0.0|\n",
            "+---------------------+-------------------------------------------+\n",
            "only showing top 20 rows\n",
            "\n",
            "+-------+-----------------------------+\n",
            "|Voltage|Min Max Normalization_Voltage|\n",
            "+-------+-----------------------------+\n",
            "| 234.84|            0.376090468497577|\n",
            "| 233.63|          0.33699515347334413|\n",
            "| 233.29|          0.32600969305331173|\n",
            "| 233.74|           0.3405492730210021|\n",
            "| 235.68|           0.4032310177705981|\n",
            "| 235.02|           0.3819063004846531|\n",
            "| 235.09|           0.3841680129240713|\n",
            "| 235.22|          0.38836833602584825|\n",
            "| 233.99|           0.3486268174474964|\n",
            "| 233.86|          0.34442649434571954|\n",
            "| 232.86|          0.31211631663974215|\n",
            "| 232.78|          0.30953150242326355|\n",
            "| 232.99|           0.3163166397415191|\n",
            "| 232.91|           0.3137318255250405|\n",
            "| 235.24|           0.3890145395799681|\n",
            "| 237.14|           0.4504038772213244|\n",
            "| 236.73|          0.43715670436187376|\n",
            "| 237.06|           0.4478190630048467|\n",
            "| 237.13|           0.4500807754442649|\n",
            "| 235.84|           0.4084006462035544|\n",
            "+-------+-----------------------------+\n",
            "only showing top 20 rows\n",
            "\n"
          ]
        }
      ]
    },
    {
      "cell_type": "code",
      "metadata": {
        "id": "DmjPgweH9cza"
      },
      "source": [
        "with open('/content/drive/My Drive/result.txt', 'w') as f:\n",
        "  f.write(\"Min Max Normalization_Global_active_power;Min Max Normalization_Global_reactive_power;Min Max Normalization_Voltage;Min Max Normalization_Global_intensity\")\n",
        "  for i in range(0,len(gap_list)):\n",
        "    f.write(str(gap_list[i])+\";\"+str(grp_list[i])+\";\"+str(vol_list[i])+ \";\"+str(gi_list[i]))\n",
        "    f.write('\\n')\n",
        "f.close()"
      ],
      "execution_count": 157,
      "outputs": []
    }
  ]
}